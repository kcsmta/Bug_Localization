{
 "cells": [
  {
   "cell_type": "markdown",
   "metadata": {},
   "source": [
    "### Tufano dataset\n",
    "(Included in CodeXGLUE)\n",
    "Downloaded from: https://huggingface.co/datasets/semeru/code-code-CodeRefinement-Java-Small/tree/main\n",
    "\n",
    "TODO: \n",
    "- https://huggingface.co/datasets/semeru/code-code-CodeRefinement-Java-Medium/tree/main\n",
    "- https://huggingface.co/datasets/semeru/code-code-BugFixingSmall\n",
    "- https://huggingface.co/datasets/semeru/code-code-BugFixingMed"
   ]
  },
  {
   "cell_type": "code",
   "execution_count": 1,
   "metadata": {},
   "outputs": [],
   "source": [
    "data_folder = './data/Tufano_Small'"
   ]
  },
  {
   "cell_type": "code",
   "execution_count": 2,
   "metadata": {},
   "outputs": [],
   "source": [
    "import os\n",
    "from utils import find_buggy_token_positions\n",
    "\n",
    "file_buggy_path = os.path.join(data_folder, 'train.buggy-fixed.buggy') \n",
    "file_fixed_path = os.path.join(data_folder, 'train.buggy-fixed.fixed')\n",
    "\n",
    "with open(file_buggy_path, 'r') as f_buggy, open(file_fixed_path, 'r') as f_fixed:\n",
    "    buggy_lines = f_buggy.readlines()\n",
    "    fixed_lines = f_fixed.readlines()\n",
    "\n",
    "assert len(buggy_lines) == len(fixed_lines), \"Buggy and fixed files should have the same number of lines.\"\n",
    "\n",
    "labeled_data = []\n",
    "\n",
    "for buggy_code, fixed_code in zip(buggy_lines, fixed_lines):\n",
    "    buggy_code = buggy_code.strip()\n",
    "    fixed_code = fixed_code.strip()\n",
    "    \n",
    "    start_idx, end_idx = find_buggy_token_positions(buggy_code, fixed_code)\n",
    "    \n",
    "    if start_idx is not None and end_idx is not None:\n",
    "        labeled_data.append({\n",
    "            \"buggy_code\": buggy_code,\n",
    "            \"fixed_code\": fixed_code,\n",
    "            \"start_pos\": start_idx,\n",
    "            \"end_pos\": end_idx,\n",
    "            \"start_token\": buggy_code.split()[start_idx],\n",
    "            \"end_token\": buggy_code.split()[end_idx],\n",
    "            \"buggy_tokens\": ' '.join(buggy_code.split()[start_idx:end_idx+1])\n",
    "        })"
   ]
  },
  {
   "cell_type": "code",
   "execution_count": 3,
   "metadata": {},
   "outputs": [
    {
     "name": "stdout",
     "output_type": "stream",
     "text": [
      "Sample 733:\n",
      "Buggy Code: public void to ( final int i ) { if ( i < 0 ) throw new TYPE_1 ( ) ; this . c = i ; }\n",
      "Fixed Code: public void to ( final int c ) { if ( c < 0 ) throw new TYPE_1 ( ) ; this . c = c ; }\n",
      "Buggy Token Start Position: 6\n",
      "Buggy Token End Position: 25\n",
      "Buggy Start Token: i\n",
      "Buggy End Token: i\n",
      "Buggy Tokens: i ) { if ( i < 0 ) throw new TYPE_1 ( ) ; this . c = i\n",
      "Sample 1796:\n",
      "Buggy Code: public TYPE_1 METHOD_1 ( ) { if ( ( VAR_1 ) == null ) VAR_1 = new TYPE_1 ( new TYPE_2 ( ) , new TYPE_3 ( ) ) ; return VAR_1 ; }\n",
      "Fixed Code: public TYPE_1 METHOD_1 ( ) { return new TYPE_1 ( new TYPE_2 ( ) , new TYPE_3 ( ) ) ; }\n",
      "Buggy Token Start Position: 6\n",
      "Buggy Token End Position: 31\n",
      "Buggy Start Token: if\n",
      "Buggy End Token: VAR_1\n",
      "Buggy Tokens: if ( ( VAR_1 ) == null ) VAR_1 = new TYPE_1 ( new TYPE_2 ( ) , new TYPE_3 ( ) ) ; return VAR_1\n",
      "Sample 2699:\n",
      "Buggy Code: public float METHOD_1 ( TYPE_1 url , TYPE_2 VAR_1 , float VAR_2 ) throws TYPE_3 { return VAR_1 . METHOD_2 ( ) ; }\n",
      "Fixed Code: public float METHOD_1 ( TYPE_1 url , TYPE_2 VAR_1 , float VAR_2 ) throws TYPE_3 { return ( VAR_1 . METHOD_2 ( ) ) * VAR_2 ; }\n",
      "Buggy Token Start Position: 17\n",
      "Buggy Token End Position: 21\n",
      "Buggy Start Token: VAR_1\n",
      "Buggy End Token: )\n",
      "Buggy Tokens: VAR_1 . METHOD_2 ( )\n",
      "Sample 4593:\n",
      "Buggy Code: public void METHOD_1 ( java.util.Set < TYPE_1 > VAR_1 ) { this . VAR_1 = new java.util.HashSet < TYPE_1 > ( ) ; }\n",
      "Fixed Code: public void METHOD_1 ( java.util.Set < TYPE_1 > VAR_1 ) { this . VAR_1 = new java.util.HashSet < TYPE_1 > ( VAR_1 ) ; }\n",
      "Buggy Token Start Position: 21\n",
      "Buggy Token End Position: 20\n",
      "Buggy Start Token: )\n",
      "Buggy End Token: (\n",
      "Buggy Tokens: \n",
      "Sample 4993:\n",
      "Buggy Code: public void METHOD_1 ( java.lang.String VAR_1 ) { super . METHOD_2 ( ) ; super . add ( VAR_2 ) ; this . METHOD_3 ( VAR_1 , VAR_2 ) ; }\n",
      "Fixed Code: public void METHOD_1 ( java.lang.String VAR_1 ) { super . METHOD_2 ( true ) ; VAR_2 = METHOD_3 ( VAR_1 , null ) ; super . add ( VAR_2 ) ; }\n",
      "Buggy Token Start Position: 12\n",
      "Buggy Token End Position: 26\n",
      "Buggy Start Token: )\n",
      "Buggy End Token: ,\n",
      "Buggy Tokens: ) ; super . add ( VAR_2 ) ; this . METHOD_3 ( VAR_1 ,\n",
      "Sample 17672:\n",
      "Buggy Code: public void METHOD_1 ( ) { VAR_1 . setText ( VAR_2 [ VAR_3 . METHOD_2 ( ) ] ) ; }\n",
      "Fixed Code: public void METHOD_1 ( ) { java.lang.System.out.println ( VAR_3 . METHOD_2 ( ) ) ; VAR_1 . setText ( VAR_2 [ VAR_3 . METHOD_2 ( ) ] ) ; }\n",
      "Buggy Token Start Position: 6\n",
      "Buggy Token End Position: 5\n",
      "Buggy Start Token: VAR_1\n",
      "Buggy End Token: {\n",
      "Buggy Tokens: \n",
      "Sample 18464:\n",
      "Buggy Code: public void METHOD_1 ( java.util.List < java.lang.String > VAR_1 ) { VAR_2 = VAR_1 ; VAR_3 = ( VAR_1 . size ( ) ) / INT_1 ; METHOD_2 ( ) ; }\n",
      "Fixed Code: public void METHOD_1 ( java.util.List < java.lang.String > VAR_1 ) { VAR_2 = VAR_1 ; VAR_3 = 0 ; METHOD_2 ( ) ; }\n",
      "Buggy Token Start Position: 17\n",
      "Buggy Token End Position: 25\n",
      "Buggy Start Token: (\n",
      "Buggy End Token: INT_1\n",
      "Buggy Tokens: ( VAR_1 . size ( ) ) / INT_1\n",
      "Sample 34145:\n",
      "Buggy Code: public void update ( ) { VAR_1 . METHOD_1 ( ) ; VAR_1 . METHOD_2 ( ) ; }\n",
      "Fixed Code: public void update ( ) { }\n",
      "Buggy Token Start Position: 6\n",
      "Buggy Token End Position: 17\n",
      "Buggy Start Token: VAR_1\n",
      "Buggy End Token: ;\n",
      "Buggy Tokens: VAR_1 . METHOD_1 ( ) ; VAR_1 . METHOD_2 ( ) ;\n",
      "Sample 38271:\n",
      "Buggy Code: public void METHOD_1 ( ) { ( ( TYPE_1 ) ( getActivity ( ) ) ) . METHOD_2 ( VAR_1 ) ; METHOD_3 ( getString ( VAR_2 ) ) ; }\n",
      "Fixed Code: private void METHOD_1 ( ) { ( ( TYPE_1 ) ( getActivity ( ) ) ) . METHOD_2 ( VAR_1 ) ; METHOD_3 ( getString ( VAR_2 ) ) ; }\n",
      "Buggy Token Start Position: 0\n",
      "Buggy Token End Position: 0\n",
      "Buggy Start Token: public\n",
      "Buggy End Token: public\n",
      "Buggy Tokens: public\n",
      "Sample 42455:\n",
      "Buggy Code: protected java.util.Set METHOD_1 ( TYPE_1 VAR_1 ) { return TYPE_2 . METHOD_2 ( VAR_2 ) ; }\n",
      "Fixed Code: public java.util.Set METHOD_1 ( TYPE_1 VAR_1 ) { return TYPE_2 . METHOD_2 ( VAR_2 ) ; }\n",
      "Buggy Token Start Position: 0\n",
      "Buggy Token End Position: 0\n",
      "Buggy Start Token: protected\n",
      "Buggy End Token: protected\n",
      "Buggy Tokens: protected\n"
     ]
    }
   ],
   "source": [
    "import random \n",
    "\n",
    "rand_list = []\n",
    "for i in range(0,10):\n",
    "    n = random.randint(0,len(labeled_data))\n",
    "    rand_list.append(n)\n",
    "         \n",
    "for i, entry in enumerate(labeled_data):\n",
    "    if i in rand_list:\n",
    "        print(f\"Sample {i+1}:\")\n",
    "        print(\"Buggy Code:\", entry[\"buggy_code\"])\n",
    "        print(\"Fixed Code:\", entry[\"fixed_code\"])\n",
    "        print(\"Buggy Token Start Position:\", entry[\"start_pos\"])\n",
    "        print(\"Buggy Token End Position:\", entry[\"end_pos\"])\n",
    "        print(\"Buggy Start Token:\", entry[\"start_token\"])\n",
    "        print(\"Buggy End Token:\", entry[\"end_token\"])\n",
    "        print(\"Buggy Tokens:\", entry[\"buggy_tokens\"])"
   ]
  },
  {
   "cell_type": "code",
   "execution_count": 4,
   "metadata": {},
   "outputs": [
    {
     "name": "stdout",
     "output_type": "stream",
     "text": [
      "Data saved to train_tufano_small.csv\n"
     ]
    }
   ],
   "source": [
    "import pandas as pd\n",
    "\n",
    "df = pd.DataFrame(labeled_data)\n",
    "csv_file_path = \"train_tufano_small.csv\"\n",
    "df.to_csv(csv_file_path, index=False)\n",
    "print(f\"Data saved to {csv_file_path}\")"
   ]
  }
 ],
 "metadata": {
  "kernelspec": {
   "display_name": "llm",
   "language": "python",
   "name": "python3"
  },
  "language_info": {
   "codemirror_mode": {
    "name": "ipython",
    "version": 3
   },
   "file_extension": ".py",
   "mimetype": "text/x-python",
   "name": "python",
   "nbconvert_exporter": "python",
   "pygments_lexer": "ipython3",
   "version": "undefined.undefined.undefined"
  }
 },
 "nbformat": 4,
 "nbformat_minor": 2
}
