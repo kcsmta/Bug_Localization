{
 "cells": [
  {
   "cell_type": "markdown",
   "metadata": {},
   "source": [
    "### A. T5Code model\n",
    "Note that T5Code+ is available"
   ]
  },
  {
   "cell_type": "code",
   "execution_count": 1,
   "metadata": {},
   "outputs": [
    {
     "name": "stderr",
     "output_type": "stream",
     "text": [
      "/home/khanh/miniconda3/envs/llm/lib/python3.10/site-packages/huggingface_hub/file_download.py:1142: FutureWarning: `resume_download` is deprecated and will be removed in version 1.0.0. Downloads always resume when possible. If you want to force a new download, use `force_download=True`.\n",
      "  warnings.warn(\n"
     ]
    }
   ],
   "source": [
    "from transformers import RobertaTokenizer, T5ForConditionalGeneration\n",
    "\n",
    "# model = T5ForConditionalGeneration.from_pretrained('Salesforce/codet5-base')\n",
    "# tokenizer = RobertaTokenizer.from_pretrained('Salesforce/codet5-base')\n",
    "model = T5ForConditionalGeneration.from_pretrained('Salesforce/codet5-large')\n",
    "tokenizer = RobertaTokenizer.from_pretrained('Salesforce/codet5-large')"
   ]
  },
  {
   "cell_type": "markdown",
   "metadata": {},
   "source": [
    "####  1. Code Completion"
   ]
  },
  {
   "cell_type": "code",
   "execution_count": 2,
   "metadata": {},
   "outputs": [
    {
     "name": "stdout",
     "output_type": "stream",
     "text": [
      "Completed Code:\n",
      " + b\n",
      "\n",
      "\n",
      "\n",
      "\n",
      "\n",
      "\n",
      "\n",
      "\n",
      "\n",
      "\n",
      "\n",
      "\n",
      "\n",
      "\n",
      "\n",
      "b):\n",
      "  return a +\n",
      "\n",
      "complete:\n"
     ]
    }
   ],
   "source": [
    "code_snippet = '''\n",
    "def add(a, b):\n",
    "    return a +\n",
    "'''\n",
    "\n",
    "inputs = tokenizer(\"complete: \" + code_snippet, return_tensors=\"pt\")\n",
    "\n",
    "outputs = model.generate(**inputs, max_length=50)\n",
    "completed_code = tokenizer.decode(outputs[0], skip_special_tokens=True)\n",
    "\n",
    "print(\"Completed Code:\\n\", completed_code.strip())"
   ]
  },
  {
   "cell_type": "markdown",
   "metadata": {},
   "source": [
    "#### 2. Code summarization"
   ]
  },
  {
   "cell_type": "code",
   "execution_count": 3,
   "metadata": {},
   "outputs": [
    {
     "name": "stdout",
     "output_type": "stream",
     "text": [
      "Code summary:\n",
      " \n",
      "\n",
      "\n",
      "\n",
      "\n",
      "\n",
      "\n",
      "    return n * factorial(n - 1)\n",
      "\n",
      "\n",
      "summarize: \n",
      "\n",
      "\n",
      "\n",
      "\n",
      "\n",
      "\n",
      "   factorial\n"
     ]
    }
   ],
   "source": [
    "code_snippet = '''\n",
    "def factorial(n):\n",
    "    if n == 0:\n",
    "        return 1\n",
    "    else:\n",
    "        return n * factorial(n - 1)\n",
    "'''\n",
    "\n",
    "inputs = tokenizer(\"summarize: \" + code_snippet, return_tensors=\"pt\")\n",
    "\n",
    "outputs = model.generate(**inputs, max_length=50)\n",
    "completed_code = tokenizer.decode(outputs[0], skip_special_tokens=True)\n",
    "\n",
    "print(\"Code summary:\\n\", completed_code)"
   ]
  },
  {
   "cell_type": "markdown",
   "metadata": {},
   "source": [
    "#### 3. Bug fixing"
   ]
  },
  {
   "cell_type": "code",
   "execution_count": 4,
   "metadata": {},
   "outputs": [
    {
     "name": "stdout",
     "output_type": "stream",
     "text": [
      "Fixed Code:\n",
      "  \n",
      "\n",
      "\n",
      "\n",
      "\n",
      "\n",
      "\n",
      " calculate_area(radius)\n",
      "\n",
      "\n",
      "\n",
      "\n",
      "\n",
      "\n",
      "\n",
      "\n",
      "\n",
      "\n",
      "\n",
      "\n",
      "\n",
      "calculate_area\n"
     ]
    }
   ],
   "source": [
    "# Example of buggy code snippet\n",
    "buggy_code_snippet = \"\"\"\n",
    "def calculate_area(radius):\n",
    "    pi = 3.14159\n",
    "    return pi * radius * radius * radius\n",
    "\"\"\"\n",
    "\n",
    "# Tokenize input with \"fix\" task prefix\n",
    "inputs = tokenizer(\"fix: \" + buggy_code_snippet, return_tensors=\"pt\")\n",
    "\n",
    "# Generate fixed code\n",
    "outputs = model.generate(**inputs, max_length=50)\n",
    "fixed_code = tokenizer.decode(outputs[0], skip_special_tokens=True)\n",
    "\n",
    "print(\"Fixed Code:\\n\", fixed_code)"
   ]
  }
 ],
 "metadata": {
  "kernelspec": {
   "display_name": "llm",
   "language": "python",
   "name": "python3"
  },
  "language_info": {
   "codemirror_mode": {
    "name": "ipython",
    "version": 3
   },
   "file_extension": ".py",
   "mimetype": "text/x-python",
   "name": "python",
   "nbconvert_exporter": "python",
   "pygments_lexer": "ipython3",
   "version": "3.10.14"
  }
 },
 "nbformat": 4,
 "nbformat_minor": 2
}
