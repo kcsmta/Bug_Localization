{
 "cells": [
  {
   "cell_type": "markdown",
   "metadata": {},
   "source": [
    "### A. T5Code model\n",
    "Note that T5Code+ is available"
   ]
  },
  {
   "cell_type": "code",
   "execution_count": 1,
   "metadata": {},
   "outputs": [
    {
     "name": "stderr",
     "output_type": "stream",
     "text": [
      "/home/khanh/miniconda3/envs/llm/lib/python3.10/site-packages/huggingface_hub/file_download.py:1142: FutureWarning: `resume_download` is deprecated and will be removed in version 1.0.0. Downloads always resume when possible. If you want to force a new download, use `force_download=True`.\n",
      "  warnings.warn(\n"
     ]
    }
   ],
   "source": [
    "from transformers import RobertaTokenizer, T5ForConditionalGeneration\n",
    "\n",
    "# model = T5ForConditionalGeneration.from_pretrained('Salesforce/codet5-base')\n",
    "# tokenizer = RobertaTokenizer.from_pretrained('Salesforce/codet5-base')\n",
    "model = T5ForConditionalGeneration.from_pretrained('Salesforce/codet5-large')\n",
    "tokenizer = RobertaTokenizer.from_pretrained('Salesforce/codet5-large')"
   ]
  },
  {
   "cell_type": "markdown",
   "metadata": {},
   "source": [
    "####  1. Code Completion"
   ]
  },
  {
   "cell_type": "code",
   "execution_count": 2,
   "metadata": {},
   "outputs": [
    {
     "name": "stdout",
     "output_type": "stream",
     "text": [
      "Completed Code:\n",
      " + b\n",
      "\n",
      "\n",
      "\n",
      "\n",
      "\n",
      "\n",
      "\n",
      "\n",
      "\n",
      "\n",
      "\n",
      "\n",
      "\n",
      "\n",
      "\n",
      "b):\n",
      "  return a +\n",
      "\n",
      "complete:\n"
     ]
    }
   ],
   "source": [
    "code_snippet = '''\n",
    "def add(a, b):\n",
    "    return a +\n",
    "'''\n",
    "\n",
    "inputs = tokenizer(\"complete: \" + code_snippet, return_tensors=\"pt\")\n",
    "\n",
    "outputs = model.generate(**inputs, max_length=50)\n",
    "completed_code = tokenizer.decode(outputs[0], skip_special_tokens=True)\n",
    "\n",
    "print(\"Completed Code:\\n\", completed_code.strip())"
   ]
  },
  {
   "cell_type": "markdown",
   "metadata": {},
   "source": [
    "#### 2. Code summarization"
   ]
  },
  {
   "cell_type": "code",
   "execution_count": 3,
   "metadata": {},
   "outputs": [
    {
     "name": "stdout",
     "output_type": "stream",
     "text": [
      "Code summary:\n",
      " \n",
      "\n",
      "\n",
      "\n",
      "\n",
      "\n",
      "\n",
      "    return n * factorial(n - 1)\n",
      "\n",
      "\n",
      "summarize: \n",
      "\n",
      "\n",
      "\n",
      "\n",
      "\n",
      "\n",
      "   factorial\n"
     ]
    }
   ],
   "source": [
    "code_snippet = '''\n",
    "def factorial(n):\n",
    "    if n == 0:\n",
    "        return 1\n",
    "    else:\n",
    "        return n * factorial(n - 1)\n",
    "'''\n",
    "\n",
    "inputs = tokenizer(\"summarize: \" + code_snippet, return_tensors=\"pt\")\n",
    "\n",
    "outputs = model.generate(**inputs, max_length=50)\n",
    "completed_code = tokenizer.decode(outputs[0], skip_special_tokens=True)\n",
    "\n",
    "print(\"Code summary:\\n\", completed_code)"
   ]
  },
  {
   "cell_type": "markdown",
   "metadata": {},
   "source": [
    "#### 3. Bug fixing"
   ]
  },
  {
   "cell_type": "code",
   "execution_count": 4,
   "metadata": {},
   "outputs": [
    {
     "name": "stdout",
     "output_type": "stream",
     "text": [
      "Fixed Code:\n",
      "  \n",
      "\n",
      "\n",
      "\n",
      "\n",
      "\n",
      "\n",
      " calculate_area(radius)\n",
      "\n",
      "\n",
      "\n",
      "\n",
      "\n",
      "\n",
      "\n",
      "\n",
      "\n",
      "\n",
      "\n",
      "\n",
      "\n",
      "calculate_area\n"
     ]
    }
   ],
   "source": [
    "# Example of buggy code snippet\n",
    "buggy_code_snippet = \"\"\"\n",
    "def calculate_area(radius):\n",
    "    pi = 3.14159\n",
    "    return pi * radius * radius * radius\n",
    "\"\"\"\n",
    "\n",
    "# Tokenize input with \"fix\" task prefix\n",
    "inputs = tokenizer(\"fix: \" + buggy_code_snippet, return_tensors=\"pt\")\n",
    "\n",
    "# Generate fixed code\n",
    "outputs = model.generate(**inputs, max_length=50)\n",
    "fixed_code = tokenizer.decode(outputs[0], skip_special_tokens=True)\n",
    "\n",
    "print(\"Fixed Code:\\n\", fixed_code)"
   ]
  },
  {
   "cell_type": "markdown",
   "metadata": {},
   "source": [
    "### B. Tufano dataset\n",
    "Included in CodeXGLUE"
   ]
  },
  {
   "cell_type": "code",
   "execution_count": 5,
   "metadata": {},
   "outputs": [],
   "source": [
    "data_folder = './data/Tufano_Small'"
   ]
  },
  {
   "cell_type": "code",
   "execution_count": 6,
   "metadata": {},
   "outputs": [],
   "source": [
    "import os\n",
    "from utils import find_buggy_token_positions\n",
    "\n",
    "file_buggy_path = os.path.join(data_folder, 'train.buggy-fixed.buggy') \n",
    "file_fixed_path = os.path.join(data_folder, 'train.buggy-fixed.fixed')\n",
    "\n",
    "with open(file_buggy_path, 'r') as f_buggy, open(file_fixed_path, 'r') as f_fixed:\n",
    "    buggy_lines = f_buggy.readlines()\n",
    "    fixed_lines = f_fixed.readlines()\n",
    "\n",
    "assert len(buggy_lines) == len(fixed_lines), \"Buggy and fixed files should have the same number of lines.\"\n",
    "\n",
    "labeled_data = []\n",
    "\n",
    "for buggy_code, fixed_code in zip(buggy_lines, fixed_lines):\n",
    "    buggy_code = buggy_code.strip()\n",
    "    fixed_code = fixed_code.strip()\n",
    "    \n",
    "    start_idx, end_idx = find_buggy_token_positions(buggy_code, fixed_code)\n",
    "    \n",
    "    if start_idx is not None and end_idx is not None:\n",
    "        labeled_data.append({\n",
    "            \"buggy_code\": buggy_code,\n",
    "            \"fixed_code\": fixed_code,\n",
    "            \"start_pos\": start_idx,\n",
    "            \"end_pos\": end_idx,\n",
    "            \"start_token\": buggy_code.split()[start_idx],\n",
    "            \"end_token\": buggy_code.split()[end_idx],\n",
    "            \"buggy_tokens\": ' '.join(buggy_code.split()[start_idx:end_idx+1])\n",
    "        })"
   ]
  },
  {
   "cell_type": "code",
   "execution_count": 7,
   "metadata": {},
   "outputs": [
    {
     "name": "stdout",
     "output_type": "stream",
     "text": [
      "Sample 114:\n",
      "Buggy Code: public void METHOD_1 ( final android.content.Intent intent , int VAR_1 ) { VAR_2 . METHOD_2 ( new TYPE_1 ( ) { public void METHOD_3 ( ) { METHOD_4 ( intent , true ) ; } } , VAR_1 ) ; }\n",
      "Fixed Code: public void METHOD_3 ( ) { METHOD_4 ( intent , true ) ; }\n",
      "Buggy Token Start Position: 2\n",
      "Buggy Token End Position: 37\n",
      "Buggy Start Token: METHOD_1\n",
      "Buggy End Token: VAR_1\n",
      "Buggy Tokens: METHOD_1 ( final android.content.Intent intent , int VAR_1 ) { VAR_2 . METHOD_2 ( new TYPE_1 ( ) { public void METHOD_3 ( ) { METHOD_4 ( intent , true ) ; } } , VAR_1\n",
      "Sample 2040:\n",
      "Buggy Code: public void METHOD_1 ( TYPE_1 VAR_1 ) { if ( VAR_2 . getText ( ) . equals ( STRING_1 ) ) VAR_2 . setText ( STRING_2 ) ; }\n",
      "Fixed Code: public void METHOD_1 ( TYPE_1 VAR_1 ) { java.lang.String text = VAR_2 . getText ( ) ; if ( ( text != null ) && ( text . equals ( STRING_1 ) ) ) VAR_2 . setText ( STRING_2 ) ; }\n",
      "Buggy Token Start Position: 8\n",
      "Buggy Token End Position: 18\n",
      "Buggy Start Token: if\n",
      "Buggy End Token: STRING_1\n",
      "Buggy Tokens: if ( VAR_2 . getText ( ) . equals ( STRING_1\n",
      "Sample 4086:\n",
      "Buggy Code: private void METHOD_1 ( ) { for ( TYPE_1 VAR_1 : VAR_2 ) { java.lang.System.out.println ( ( ( ( VAR_1 . METHOD_2 ( ) . METHOD_3 ( ) ) + STRING_1 ) + ( VAR_1 . METHOD_2 ( ) . METHOD_4 ( ) ) ) ) ; } }\n",
      "Fixed Code: private void METHOD_1 ( ) { for ( TYPE_1 VAR_1 : VAR_2 ) { } }\n",
      "Buggy Token Start Position: 14\n",
      "Buggy Token End Position: 46\n",
      "Buggy Start Token: java.lang.System.out.println\n",
      "Buggy End Token: ;\n",
      "Buggy Tokens: java.lang.System.out.println ( ( ( ( VAR_1 . METHOD_2 ( ) . METHOD_3 ( ) ) + STRING_1 ) + ( VAR_1 . METHOD_2 ( ) . METHOD_4 ( ) ) ) ) ;\n",
      "Sample 4461:\n",
      "Buggy Code: public java.util.List < TYPE_1 > METHOD_1 ( ) { java.util.List < TYPE_1 > VAR_1 = this . METHOD_2 ( ) ; java.util.Collections.sort ( VAR_1 , new TYPE_2 ( ) ) ; return VAR_1 ; }\n",
      "Fixed Code: public java.util.List < TYPE_1 > METHOD_1 ( ) { java.util.List < TYPE_1 > VAR_1 = new java.util.ArrayList < TYPE_1 > ( this . METHOD_2 ( ) ) ; java.util.Collections.sort ( VAR_1 , new TYPE_2 ( ) ) ; return VAR_1 ; }\n",
      "Buggy Token Start Position: 15\n",
      "Buggy Token End Position: 18\n",
      "Buggy Start Token: this\n",
      "Buggy End Token: (\n",
      "Buggy Tokens: this . METHOD_2 (\n",
      "Sample 19329:\n",
      "Buggy Code: void METHOD_1 ( ) { VAR_1 . METHOD_2 ( true , true , STRING_1 ) ; }\n",
      "Fixed Code: void METHOD_1 ( ) { VAR_1 . METHOD_2 ( true , true , STRING_1 , true ) ; }\n",
      "Buggy Token Start Position: 14\n",
      "Buggy Token End Position: 13\n",
      "Buggy Start Token: )\n",
      "Buggy End Token: STRING_1\n",
      "Buggy Tokens: \n",
      "Sample 19927:\n",
      "Buggy Code: private char METHOD_1 ( ) { if ( ( VAR_1 ) == 1 ) { return CHAR_1 ; } if ( ( ( key ) == 0 ) && ( ( VAR_2 ) == INT_1 ) ) { return CHAR_2 ; } return CHAR_3 ; }\n",
      "Fixed Code: private char METHOD_1 ( ) { if ( ( ( key ) == 0 ) && ( ( VAR_2 ) == INT_1 ) ) { return CHAR_2 ; } if ( ( VAR_1 ) == 1 ) { return CHAR_1 ; } return CHAR_3 ; }\n",
      "Buggy Token Start Position: 9\n",
      "Buggy Token End Position: 39\n",
      "Buggy Start Token: VAR_1\n",
      "Buggy End Token: CHAR_2\n",
      "Buggy Tokens: VAR_1 ) == 1 ) { return CHAR_1 ; } if ( ( ( key ) == 0 ) && ( ( VAR_2 ) == INT_1 ) ) { return CHAR_2\n",
      "Sample 21019:\n",
      "Buggy Code: public TYPE_1 METHOD_1 ( ) { java.util.List < TYPE_2 > c = new java.util.ArrayList < > ( ) ; for ( int VAR_1 : VAR_2 ) c . add ( TYPE_3 . METHOD_2 ( VAR_1 ) ) ; return new TYPE_1 ( c , STRING_1 ) ; }\n",
      "Fixed Code: public TYPE_1 METHOD_1 ( java.lang.String params ) { java.util.List < TYPE_2 > c = new java.util.ArrayList < > ( ) ; for ( int VAR_1 : VAR_2 ) c . add ( TYPE_3 . METHOD_2 ( VAR_1 ) ) ; return new TYPE_1 ( c , params ) ; }\n",
      "Buggy Token Start Position: 4\n",
      "Buggy Token End Position: 44\n",
      "Buggy Start Token: )\n",
      "Buggy End Token: STRING_1\n",
      "Buggy Tokens: ) { java.util.List < TYPE_2 > c = new java.util.ArrayList < > ( ) ; for ( int VAR_1 : VAR_2 ) c . add ( TYPE_3 . METHOD_2 ( VAR_1 ) ) ; return new TYPE_1 ( c , STRING_1\n",
      "Sample 21305:\n",
      "Buggy Code: public void METHOD_1 ( TYPE_1 VAR_1 ) { TYPE_2 . METHOD_2 ( getActivity ( ) , STRING_1 , VAR_2 ) ; TYPE_3 . METHOD_3 ( STRING_1 ) ; }\n",
      "Fixed Code: public void METHOD_1 ( TYPE_1 VAR_1 ) { TYPE_2 . METHOD_2 ( getActivity ( ) , STRING_1 , VAR_2 ) . show ( ) ; TYPE_3 . METHOD_3 ( STRING_1 ) ; }\n",
      "Buggy Token Start Position: 20\n",
      "Buggy Token End Position: 18\n",
      "Buggy Start Token: ;\n",
      "Buggy End Token: VAR_2\n",
      "Buggy Tokens: \n",
      "Sample 36036:\n",
      "Buggy Code: private void METHOD_1 ( ) { TYPE_1 VAR_1 = new TYPE_1 ( ) ; VAR_1 . METHOD_2 ( INT_1 ) ; TYPE_2 . METHOD_3 ( VAR_2 ) . METHOD_4 ( VAR_3 ) . METHOD_5 ( VAR_1 ) . METHOD_6 ( VAR_4 ) ; }\n",
      "Fixed Code: private void METHOD_1 ( ) { TYPE_1 VAR_1 = new TYPE_1 ( ) ; VAR_1 . METHOD_2 ( INT_1 ) ; TYPE_2 . METHOD_3 ( VAR_2 ) . METHOD_5 ( VAR_1 ) . METHOD_6 ( VAR_4 ) ; }\n",
      "Buggy Token Start Position: 28\n",
      "Buggy Token End Position: 30\n",
      "Buggy Start Token: METHOD_4\n",
      "Buggy End Token: VAR_3\n",
      "Buggy Tokens: METHOD_4 ( VAR_3\n",
      "Sample 43721:\n",
      "Buggy Code: public boolean METHOD_1 ( ) { return ( VAR_1 ) > ( TYPE_1 . METHOD_2 ( ) ) ; }\n",
      "Fixed Code: public boolean METHOD_1 ( ) { return VAR_1 ; }\n",
      "Buggy Token Start Position: 7\n",
      "Buggy Token End Position: 17\n",
      "Buggy Start Token: (\n",
      "Buggy End Token: )\n",
      "Buggy Tokens: ( VAR_1 ) > ( TYPE_1 . METHOD_2 ( ) )\n"
     ]
    }
   ],
   "source": [
    "import random \n",
    "\n",
    "rand_list = []\n",
    "for i in range(0,10):\n",
    "    n = random.randint(0,len(labeled_data))\n",
    "    rand_list.append(n)\n",
    "         \n",
    "for i, entry in enumerate(labeled_data):\n",
    "    if i in rand_list:\n",
    "        print(f\"Sample {i+1}:\")\n",
    "        print(\"Buggy Code:\", entry[\"buggy_code\"])\n",
    "        print(\"Fixed Code:\", entry[\"fixed_code\"])\n",
    "        print(\"Buggy Token Start Position:\", entry[\"start_pos\"])\n",
    "        print(\"Buggy Token End Position:\", entry[\"end_pos\"])\n",
    "        print(\"Buggy Start Token:\", entry[\"start_token\"])\n",
    "        print(\"Buggy End Token:\", entry[\"end_token\"])\n",
    "        print(\"Buggy Tokens:\", entry[\"buggy_tokens\"])"
   ]
  },
  {
   "cell_type": "code",
   "execution_count": 8,
   "metadata": {},
   "outputs": [
    {
     "name": "stdout",
     "output_type": "stream",
     "text": [
      "Data saved to train_tufano_small.csv\n"
     ]
    }
   ],
   "source": [
    "import pandas as pd\n",
    "\n",
    "df = pd.DataFrame(labeled_data)\n",
    "csv_file_path = \"train_tufano_small.csv\"\n",
    "df.to_csv(csv_file_path, index=False)\n",
    "print(f\"Data saved to {csv_file_path}\")"
   ]
  }
 ],
 "metadata": {
  "kernelspec": {
   "display_name": "llm",
   "language": "python",
   "name": "python3"
  },
  "language_info": {
   "codemirror_mode": {
    "name": "ipython",
    "version": 3
   },
   "file_extension": ".py",
   "mimetype": "text/x-python",
   "name": "python",
   "nbconvert_exporter": "python",
   "pygments_lexer": "ipython3",
   "version": "3.10.14"
  }
 },
 "nbformat": 4,
 "nbformat_minor": 2
}
